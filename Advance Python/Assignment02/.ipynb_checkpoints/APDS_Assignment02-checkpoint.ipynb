{
 "cells": [
  {
   "cell_type": "markdown",
   "id": "6c0a11a5",
   "metadata": {},
   "source": [
    "<div class=\"alert alert-block alert-success\">\n",
    "    <span style='font-size: large'><b> ASSIGNMENT 02 </b></span>\n",
    "    <br>\n",
    "    <span> GROUP 1 <span>\n",
    "</div>"
   ]
  },
  {
   "cell_type": "code",
   "execution_count": 1,
   "id": "7a703426",
   "metadata": {},
   "outputs": [],
   "source": [
    "import pandas as pd"
   ]
  },
  {
   "cell_type": "code",
   "execution_count": 2,
   "id": "5866cd91",
   "metadata": {},
   "outputs": [],
   "source": [
    "# DataFrame Customers\n",
    "cus_data = [\n",
    "    [1, 'Keo Tola', 'M', '011 694 836','Phnom Penh'],\n",
    "    [2, 'Chan Sokheng', 'F', '097 984 4985','Pursat'],\n",
    "    [3, 'Meng Heang', 'M', '099 897 858', 'Phnom Penh'],\n",
    "    [4, 'Sok Sophea', 'F', '086 985 585','Siem Reap'],\n",
    "    [5, 'Sen Sinet', 'F', '097 242 234', 'Phnom Penh'],\n",
    "    [6, 'Sok Panha', 'M', '086 654 432', 'Siem Reap'],\n",
    "]\n",
    "df_customers = pd.DataFrame(cus_data, columns=['CusID','CusName', 'Gender', 'Phone','Address'])"
   ]
  },
  {
   "cell_type": "code",
   "execution_count": 3,
   "id": "1f7e61f3",
   "metadata": {},
   "outputs": [],
   "source": [
    "# DataFrame Invoice and InvoiceDetail\n",
    "inv_data = [\n",
    "    [1, \"2021-01-04\", 22, 1, 1],\n",
    "    [2, \"2021-05-15\", 14, 4, 1],\n",
    "    [3, '2021-05-15', 8, 3, 2],\n",
    "    [4, '2021-07-22', 15, 2, 3],\n",
    "    [5, '2020-01-17', 45, 1, 3],\n",
    "    [6, '2020-03-27', 24, 1, 3],\n",
    "    [7, '2020-02-11', 5, 3, 4],\n",
    "    [8, '2020-07-22', 59, 3, 59]\n",
    "]\n",
    "inv_Detail = [\n",
    "    [1, 1, 5, 3],\n",
    "    [1, 2, 7, 1],\n",
    "    [2, 1, 7, 2],\n",
    "    [3, 3, 8, 1],\n",
    "    [4, 2, 7, 1],\n",
    "    [4, 3, 8, 1],\n",
    "    [5, 1, 5, 2],\n",
    "    [5, 2, 7, 5],\n",
    "    [6, 3, 8, 5],\n",
    "    [7, 1, 5, 1],\n",
    "    [8, 2, 7, 5],\n",
    "    [8, 3, 8, 4],\n",
    "]\n",
    "\n",
    "df_invoice = pd.DataFrame(inv_data, columns=['InvoiceID', 'InvoiceDate', 'TotalAmount', 'CusID', 'StaffID'])\n",
    "df_invD = pd.DataFrame(inv_Detail, columns=['InvoiceID', 'ProductID', 'SellingPrice', 'Quantity'])"
   ]
  },
  {
   "cell_type": "code",
   "execution_count": 4,
   "id": "ab322dae",
   "metadata": {},
   "outputs": [],
   "source": [
    "# DataFrame Products\n",
    "prod_data = [\n",
    "    [1, 'Cable', 50, 10 , 0.5],\n",
    "    [2, 'Mouse', 30, 7, 0],\n",
    "    [3, 'USB Headset' ,35, 10, 0.2],\n",
    "    [4, 'Adapter', 20, 7, 0.5],\n",
    "    [5, 'Keyboard', 15, 15, 0.6],\n",
    "]\n",
    "df_prod = pd.DataFrame(prod_data, columns=['ProductID', 'ProductName', 'StockQty', 'UnitPrice', 'Discount'])"
   ]
  },
  {
   "cell_type": "code",
   "execution_count": 5,
   "id": "27eaec8b",
   "metadata": {},
   "outputs": [],
   "source": [
    "# DataFrame of Staffs\n",
    "staff_data = [\n",
    "    [1, 'Kim Tola', 'M', 1500, False],\n",
    "    [2, 'Long Dary', 'F', 700, False],\n",
    "    [3, 'Kun Sopheak', 'F', 320, False],\n",
    "    [4, 'Chim Thida', 'F', 200, True],\n",
    "    [5, 'Dim Vuthy', 'M', 150, True],\n",
    "    [6, 'Keo Dara', 'M', 100, False],\n",
    "]\n",
    "df_staffs = pd.DataFrame(staff_data, columns=['StaffID', 'StaffName', 'Gender', \"Salary\", 'StopWork'])"
   ]
  },
  {
   "cell_type": "markdown",
   "id": "733649ba",
   "metadata": {},
   "source": [
    "<div class=\"alert alert-block alert-info\"> 1. Display the number of customers from Phnom Penh.</div>"
   ]
  },
  {
   "cell_type": "code",
   "execution_count": 6,
   "id": "1dc53167",
   "metadata": {},
   "outputs": [
    {
     "data": {
      "text/html": [
       "<div>\n",
       "<style scoped>\n",
       "    .dataframe tbody tr th:only-of-type {\n",
       "        vertical-align: middle;\n",
       "    }\n",
       "\n",
       "    .dataframe tbody tr th {\n",
       "        vertical-align: top;\n",
       "    }\n",
       "\n",
       "    .dataframe thead th {\n",
       "        text-align: right;\n",
       "    }\n",
       "</style>\n",
       "<table border=\"1\" class=\"dataframe\">\n",
       "  <thead>\n",
       "    <tr style=\"text-align: right;\">\n",
       "      <th></th>\n",
       "      <th>Address</th>\n",
       "      <th>Count</th>\n",
       "    </tr>\n",
       "  </thead>\n",
       "  <tbody>\n",
       "    <tr>\n",
       "      <th>0</th>\n",
       "      <td>Phnom Penh</td>\n",
       "      <td>3</td>\n",
       "    </tr>\n",
       "  </tbody>\n",
       "</table>\n",
       "</div>"
      ],
      "text/plain": [
       "      Address  Count\n",
       "0  Phnom Penh      3"
      ]
     },
     "execution_count": 6,
     "metadata": {},
     "output_type": "execute_result"
    }
   ],
   "source": [
    "count_pp = df_customers[df_customers['Address'] == 'Phnom Penh']\n",
    "count_pp = count_pp.groupby(['Address']).size().reset_index(name='Count')\n",
    "count_pp"
   ]
  },
  {
   "cell_type": "markdown",
   "id": "87ce0872",
   "metadata": {},
   "source": [
    "<div class=\"alert alert-block alert-info\"> 2. Display the number of male and female staffs who are still working.</div>"
   ]
  },
  {
   "cell_type": "code",
   "execution_count": 7,
   "id": "650e3588",
   "metadata": {},
   "outputs": [
    {
     "data": {
      "text/html": [
       "<div>\n",
       "<style scoped>\n",
       "    .dataframe tbody tr th:only-of-type {\n",
       "        vertical-align: middle;\n",
       "    }\n",
       "\n",
       "    .dataframe tbody tr th {\n",
       "        vertical-align: top;\n",
       "    }\n",
       "\n",
       "    .dataframe thead th {\n",
       "        text-align: right;\n",
       "    }\n",
       "</style>\n",
       "<table border=\"1\" class=\"dataframe\">\n",
       "  <thead>\n",
       "    <tr style=\"text-align: right;\">\n",
       "      <th></th>\n",
       "      <th>Gender</th>\n",
       "      <th>Count</th>\n",
       "    </tr>\n",
       "  </thead>\n",
       "  <tbody>\n",
       "    <tr>\n",
       "      <th>0</th>\n",
       "      <td>F</td>\n",
       "      <td>3</td>\n",
       "    </tr>\n",
       "    <tr>\n",
       "      <th>1</th>\n",
       "      <td>M</td>\n",
       "      <td>3</td>\n",
       "    </tr>\n",
       "  </tbody>\n",
       "</table>\n",
       "</div>"
      ],
      "text/plain": [
       "  Gender  Count\n",
       "0      F      3\n",
       "1      M      3"
      ]
     },
     "execution_count": 7,
     "metadata": {},
     "output_type": "execute_result"
    }
   ],
   "source": [
    "df_staffs[df_staffs['StopWork'] == False]\n",
    "count_staff = df_staffs.groupby(['Gender']).size().reset_index(name='Count')\n",
    "count_staff"
   ]
  },
  {
   "cell_type": "markdown",
   "id": "c550e47c",
   "metadata": {},
   "source": [
    "<div class=\"alert alert-block alert-info\"> 3. Display the number of male and female customer from each address.</div>"
   ]
  },
  {
   "cell_type": "code",
   "execution_count": 8,
   "id": "c75f10eb",
   "metadata": {},
   "outputs": [
    {
     "data": {
      "text/html": [
       "<div>\n",
       "<style scoped>\n",
       "    .dataframe tbody tr th:only-of-type {\n",
       "        vertical-align: middle;\n",
       "    }\n",
       "\n",
       "    .dataframe tbody tr th {\n",
       "        vertical-align: top;\n",
       "    }\n",
       "\n",
       "    .dataframe thead th {\n",
       "        text-align: right;\n",
       "    }\n",
       "</style>\n",
       "<table border=\"1\" class=\"dataframe\">\n",
       "  <thead>\n",
       "    <tr style=\"text-align: right;\">\n",
       "      <th></th>\n",
       "      <th>Address</th>\n",
       "      <th>Gender</th>\n",
       "      <th>Count</th>\n",
       "    </tr>\n",
       "  </thead>\n",
       "  <tbody>\n",
       "    <tr>\n",
       "      <th>0</th>\n",
       "      <td>Phnom Penh</td>\n",
       "      <td>F</td>\n",
       "      <td>1</td>\n",
       "    </tr>\n",
       "    <tr>\n",
       "      <th>1</th>\n",
       "      <td>Phnom Penh</td>\n",
       "      <td>M</td>\n",
       "      <td>2</td>\n",
       "    </tr>\n",
       "    <tr>\n",
       "      <th>2</th>\n",
       "      <td>Pursat</td>\n",
       "      <td>F</td>\n",
       "      <td>1</td>\n",
       "    </tr>\n",
       "    <tr>\n",
       "      <th>3</th>\n",
       "      <td>Siem Reap</td>\n",
       "      <td>F</td>\n",
       "      <td>1</td>\n",
       "    </tr>\n",
       "    <tr>\n",
       "      <th>4</th>\n",
       "      <td>Siem Reap</td>\n",
       "      <td>M</td>\n",
       "      <td>1</td>\n",
       "    </tr>\n",
       "  </tbody>\n",
       "</table>\n",
       "</div>"
      ],
      "text/plain": [
       "      Address Gender  Count\n",
       "0  Phnom Penh      F      1\n",
       "1  Phnom Penh      M      2\n",
       "2      Pursat      F      1\n",
       "3   Siem Reap      F      1\n",
       "4   Siem Reap      M      1"
      ]
     },
     "execution_count": 8,
     "metadata": {},
     "output_type": "execute_result"
    }
   ],
   "source": [
    "count_gender = df_customers.groupby(['Address', 'Gender']).size().reset_index(name='Count')\n",
    "count_gender"
   ]
  },
  {
   "cell_type": "markdown",
   "id": "58bb945f",
   "metadata": {},
   "source": [
    "<div class=\"alert alert-block alert-info\"> 4. Display the number of invoices and the total amount purchased by each customer.</div>"
   ]
  },
  {
   "cell_type": "code",
   "execution_count": 9,
   "id": "47894677",
   "metadata": {},
   "outputs": [
    {
     "data": {
      "text/html": [
       "<div>\n",
       "<style scoped>\n",
       "    .dataframe tbody tr th:only-of-type {\n",
       "        vertical-align: middle;\n",
       "    }\n",
       "\n",
       "    .dataframe tbody tr th {\n",
       "        vertical-align: top;\n",
       "    }\n",
       "\n",
       "    .dataframe thead th {\n",
       "        text-align: right;\n",
       "    }\n",
       "</style>\n",
       "<table border=\"1\" class=\"dataframe\">\n",
       "  <thead>\n",
       "    <tr style=\"text-align: right;\">\n",
       "      <th></th>\n",
       "      <th>CusName</th>\n",
       "      <th>TotalAmount</th>\n",
       "      <th>TotalInvoice</th>\n",
       "    </tr>\n",
       "  </thead>\n",
       "  <tbody>\n",
       "    <tr>\n",
       "      <th>0</th>\n",
       "      <td>Chan Sokheng</td>\n",
       "      <td>15</td>\n",
       "      <td>1</td>\n",
       "    </tr>\n",
       "    <tr>\n",
       "      <th>1</th>\n",
       "      <td>Keo Tola</td>\n",
       "      <td>91</td>\n",
       "      <td>3</td>\n",
       "    </tr>\n",
       "    <tr>\n",
       "      <th>2</th>\n",
       "      <td>Meng Heang</td>\n",
       "      <td>72</td>\n",
       "      <td>3</td>\n",
       "    </tr>\n",
       "    <tr>\n",
       "      <th>3</th>\n",
       "      <td>Sok Sophea</td>\n",
       "      <td>14</td>\n",
       "      <td>1</td>\n",
       "    </tr>\n",
       "  </tbody>\n",
       "</table>\n",
       "</div>"
      ],
      "text/plain": [
       "        CusName  TotalAmount  TotalInvoice\n",
       "0  Chan Sokheng           15             1\n",
       "1      Keo Tola           91             3\n",
       "2    Meng Heang           72             3\n",
       "3    Sok Sophea           14             1"
      ]
     },
     "execution_count": 9,
     "metadata": {},
     "output_type": "execute_result"
    }
   ],
   "source": [
    "df_cus_inv = pd.merge(df_customers, df_invoice)\n",
    "count_inv = df_cus_inv.groupby('CusName').agg(TotalAmount=('TotalAmount', 'sum'), TotalInvoice=('CusName', 'size')).reset_index()\n",
    "count_inv"
   ]
  },
  {
   "cell_type": "markdown",
   "id": "fafc3e9a",
   "metadata": {},
   "source": [
    "<div class=\"alert alert-block alert-info\"> 5. Display the customer who purchased most frequently.</div>"
   ]
  },
  {
   "cell_type": "code",
   "execution_count": 10,
   "id": "136530bb",
   "metadata": {},
   "outputs": [
    {
     "data": {
      "text/html": [
       "<div>\n",
       "<style scoped>\n",
       "    .dataframe tbody tr th:only-of-type {\n",
       "        vertical-align: middle;\n",
       "    }\n",
       "\n",
       "    .dataframe tbody tr th {\n",
       "        vertical-align: top;\n",
       "    }\n",
       "\n",
       "    .dataframe thead th {\n",
       "        text-align: right;\n",
       "    }\n",
       "</style>\n",
       "<table border=\"1\" class=\"dataframe\">\n",
       "  <thead>\n",
       "    <tr style=\"text-align: right;\">\n",
       "      <th></th>\n",
       "      <th>CusName</th>\n",
       "      <th>Count</th>\n",
       "    </tr>\n",
       "  </thead>\n",
       "  <tbody>\n",
       "    <tr>\n",
       "      <th>1</th>\n",
       "      <td>Keo Tola</td>\n",
       "      <td>3</td>\n",
       "    </tr>\n",
       "    <tr>\n",
       "      <th>2</th>\n",
       "      <td>Meng Heang</td>\n",
       "      <td>3</td>\n",
       "    </tr>\n",
       "  </tbody>\n",
       "</table>\n",
       "</div>"
      ],
      "text/plain": [
       "      CusName  Count\n",
       "1    Keo Tola      3\n",
       "2  Meng Heang      3"
      ]
     },
     "execution_count": 10,
     "metadata": {},
     "output_type": "execute_result"
    }
   ],
   "source": [
    "count_frequently = df_cus_inv.groupby('CusName').size().reset_index(name='Count')\n",
    "count_frequently = count_frequently[count_frequently['Count'] == count_frequently['Count'].max()]\n",
    "count_frequently"
   ]
  },
  {
   "cell_type": "markdown",
   "id": "699db229",
   "metadata": {},
   "source": [
    "<div class=\"alert alert-block alert-info\"> 6. Display the numbers of Cables that have been sold to Phnom Penh.</div>"
   ]
  },
  {
   "cell_type": "code",
   "execution_count": 11,
   "id": "8b37735f",
   "metadata": {},
   "outputs": [
    {
     "name": "stdout",
     "output_type": "stream",
     "text": [
      "Number of Cables that have been sold to Phnom Penh : 6\n"
     ]
    }
   ],
   "source": [
    "address = 'Phnom Penh'\n",
    "product = 'Cable'\n",
    "df_invD_prod = pd.merge(df_invD, df_prod, on='ProductID')\n",
    "merged_data = pd.merge(df_cus_inv, df_invD_prod, on='InvoiceID')\n",
    "count_cable = merged_data[(merged_data['Address'] == address) & (merged_data['ProductName'] == product)]\n",
    "count_cable = count_cable['Quantity'].sum()\n",
    "print(f\"Number of Cables that have been sold to Phnom Penh : {count_cable}\")"
   ]
  },
  {
   "cell_type": "markdown",
   "id": "6be06e86",
   "metadata": {},
   "source": [
    "<div class=\"alert alert-block alert-info\"> 7. Display the address that purchased most frequently.</div>"
   ]
  },
  {
   "cell_type": "code",
   "execution_count": 12,
   "id": "63330cbe",
   "metadata": {},
   "outputs": [
    {
     "data": {
      "text/html": [
       "<div>\n",
       "<style scoped>\n",
       "    .dataframe tbody tr th:only-of-type {\n",
       "        vertical-align: middle;\n",
       "    }\n",
       "\n",
       "    .dataframe tbody tr th {\n",
       "        vertical-align: top;\n",
       "    }\n",
       "\n",
       "    .dataframe thead th {\n",
       "        text-align: right;\n",
       "    }\n",
       "</style>\n",
       "<table border=\"1\" class=\"dataframe\">\n",
       "  <thead>\n",
       "    <tr style=\"text-align: right;\">\n",
       "      <th></th>\n",
       "      <th>Address</th>\n",
       "      <th>Count</th>\n",
       "    </tr>\n",
       "  </thead>\n",
       "  <tbody>\n",
       "    <tr>\n",
       "      <th>0</th>\n",
       "      <td>Phnom Penh</td>\n",
       "      <td>6</td>\n",
       "    </tr>\n",
       "  </tbody>\n",
       "</table>\n",
       "</div>"
      ],
      "text/plain": [
       "      Address  Count\n",
       "0  Phnom Penh      6"
      ]
     },
     "execution_count": 12,
     "metadata": {},
     "output_type": "execute_result"
    }
   ],
   "source": [
    "count_frequently = df_cus_inv.groupby('Address').size().reset_index(name='Count')\n",
    "count_frequently = count_frequently[count_frequently['Count'] == count_frequently['Count'].max()]\n",
    "count_frequently"
   ]
  },
  {
   "cell_type": "markdown",
   "id": "9533b68b",
   "metadata": {},
   "source": [
    "<div class=\"alert alert-block alert-info\"> 8. Display all monthly incomes in 2021.</div>"
   ]
  },
  {
   "cell_type": "code",
   "execution_count": 13,
   "id": "30390028",
   "metadata": {},
   "outputs": [
    {
     "data": {
      "text/html": [
       "<div>\n",
       "<style scoped>\n",
       "    .dataframe tbody tr th:only-of-type {\n",
       "        vertical-align: middle;\n",
       "    }\n",
       "\n",
       "    .dataframe tbody tr th {\n",
       "        vertical-align: top;\n",
       "    }\n",
       "\n",
       "    .dataframe thead th {\n",
       "        text-align: right;\n",
       "    }\n",
       "</style>\n",
       "<table border=\"1\" class=\"dataframe\">\n",
       "  <thead>\n",
       "    <tr style=\"text-align: right;\">\n",
       "      <th></th>\n",
       "      <th>InvoiceID</th>\n",
       "      <th>InvoiceDate</th>\n",
       "      <th>TotalAmount</th>\n",
       "      <th>CusID</th>\n",
       "      <th>StaffID</th>\n",
       "    </tr>\n",
       "  </thead>\n",
       "  <tbody>\n",
       "    <tr>\n",
       "      <th>0</th>\n",
       "      <td>1</td>\n",
       "      <td>2021-01-04</td>\n",
       "      <td>22</td>\n",
       "      <td>1</td>\n",
       "      <td>1</td>\n",
       "    </tr>\n",
       "    <tr>\n",
       "      <th>1</th>\n",
       "      <td>2</td>\n",
       "      <td>2021-05-15</td>\n",
       "      <td>14</td>\n",
       "      <td>4</td>\n",
       "      <td>1</td>\n",
       "    </tr>\n",
       "    <tr>\n",
       "      <th>2</th>\n",
       "      <td>3</td>\n",
       "      <td>2021-05-15</td>\n",
       "      <td>8</td>\n",
       "      <td>3</td>\n",
       "      <td>2</td>\n",
       "    </tr>\n",
       "    <tr>\n",
       "      <th>3</th>\n",
       "      <td>4</td>\n",
       "      <td>2021-07-22</td>\n",
       "      <td>15</td>\n",
       "      <td>2</td>\n",
       "      <td>3</td>\n",
       "    </tr>\n",
       "  </tbody>\n",
       "</table>\n",
       "</div>"
      ],
      "text/plain": [
       "   InvoiceID InvoiceDate  TotalAmount  CusID  StaffID\n",
       "0          1  2021-01-04           22      1        1\n",
       "1          2  2021-05-15           14      4        1\n",
       "2          3  2021-05-15            8      3        2\n",
       "3          4  2021-07-22           15      2        3"
      ]
     },
     "execution_count": 13,
     "metadata": {},
     "output_type": "execute_result"
    }
   ],
   "source": [
    "year = 2021\n",
    "df_invoice['InvoiceDate'] = pd.to_datetime(df_invoice['InvoiceDate'])\n",
    "df_invoice[df_invoice['InvoiceDate'].dt.year == year]"
   ]
  },
  {
   "cell_type": "markdown",
   "id": "c96285b3",
   "metadata": {},
   "source": [
    "<div class=\"alert alert-block alert-info\"> 9. Find the most sold product in 2020.</div>"
   ]
  },
  {
   "cell_type": "code",
   "execution_count": 14,
   "id": "22ca5cfb",
   "metadata": {},
   "outputs": [
    {
     "data": {
      "text/html": [
       "<div>\n",
       "<style scoped>\n",
       "    .dataframe tbody tr th:only-of-type {\n",
       "        vertical-align: middle;\n",
       "    }\n",
       "\n",
       "    .dataframe tbody tr th {\n",
       "        vertical-align: top;\n",
       "    }\n",
       "\n",
       "    .dataframe thead th {\n",
       "        text-align: right;\n",
       "    }\n",
       "</style>\n",
       "<table border=\"1\" class=\"dataframe\">\n",
       "  <thead>\n",
       "    <tr style=\"text-align: right;\">\n",
       "      <th></th>\n",
       "      <th>ProductName</th>\n",
       "      <th>Count</th>\n",
       "    </tr>\n",
       "  </thead>\n",
       "  <tbody>\n",
       "    <tr>\n",
       "      <th>0</th>\n",
       "      <td>Cable</td>\n",
       "      <td>2</td>\n",
       "    </tr>\n",
       "    <tr>\n",
       "      <th>1</th>\n",
       "      <td>Mouse</td>\n",
       "      <td>2</td>\n",
       "    </tr>\n",
       "    <tr>\n",
       "      <th>2</th>\n",
       "      <td>USB Headset</td>\n",
       "      <td>2</td>\n",
       "    </tr>\n",
       "  </tbody>\n",
       "</table>\n",
       "</div>"
      ],
      "text/plain": [
       "   ProductName  Count\n",
       "0        Cable      2\n",
       "1        Mouse      2\n",
       "2  USB Headset      2"
      ]
     },
     "execution_count": 14,
     "metadata": {},
     "output_type": "execute_result"
    }
   ],
   "source": [
    "year = 2020\n",
    "merged_data = pd.merge(df_invoice, df_invD, on='InvoiceID')\n",
    "merged_data = merged_data[['InvoiceID', 'InvoiceDate', 'ProductID', 'Quantity']]\n",
    "merged_data = merged_data.merge(df_prod, on='ProductID', how='left')\n",
    "merged_data = merged_data[['InvoiceID', 'InvoiceDate', 'ProductID', 'ProductName' ,'Quantity',]]\n",
    "merged_data['InvoiceDate'] = pd.to_datetime(merged_data['InvoiceDate'])\n",
    "merged_data = merged_data[merged_data['InvoiceDate'].dt.year == year]\n",
    "merged_data = merged_data.groupby('ProductName').size().reset_index(name='Count')\n",
    "merged_data = merged_data[merged_data['Count'] == merged_data['Count'].max()]\n",
    "merged_data"
   ]
  },
  {
   "cell_type": "markdown",
   "id": "30ea25b0",
   "metadata": {},
   "source": [
    "<div class=\"alert alert-block alert-info\"> 10. Display all product ids, names and total selling quantities.</div>"
   ]
  },
  {
   "cell_type": "code",
   "execution_count": 18,
   "id": "338dc793",
   "metadata": {},
   "outputs": [
    {
     "data": {
      "text/html": [
       "<div>\n",
       "<style scoped>\n",
       "    .dataframe tbody tr th:only-of-type {\n",
       "        vertical-align: middle;\n",
       "    }\n",
       "\n",
       "    .dataframe tbody tr th {\n",
       "        vertical-align: top;\n",
       "    }\n",
       "\n",
       "    .dataframe thead th {\n",
       "        text-align: right;\n",
       "    }\n",
       "</style>\n",
       "<table border=\"1\" class=\"dataframe\">\n",
       "  <thead>\n",
       "    <tr style=\"text-align: right;\">\n",
       "      <th></th>\n",
       "      <th>ProductID</th>\n",
       "      <th>ProductName</th>\n",
       "      <th>Quantity</th>\n",
       "    </tr>\n",
       "  </thead>\n",
       "  <tbody>\n",
       "    <tr>\n",
       "      <th>0</th>\n",
       "      <td>1</td>\n",
       "      <td>Cable</td>\n",
       "      <td>8</td>\n",
       "    </tr>\n",
       "    <tr>\n",
       "      <th>1</th>\n",
       "      <td>2</td>\n",
       "      <td>Mouse</td>\n",
       "      <td>12</td>\n",
       "    </tr>\n",
       "    <tr>\n",
       "      <th>2</th>\n",
       "      <td>3</td>\n",
       "      <td>USB Headset</td>\n",
       "      <td>11</td>\n",
       "    </tr>\n",
       "  </tbody>\n",
       "</table>\n",
       "</div>"
      ],
      "text/plain": [
       "   ProductID  ProductName  Quantity\n",
       "0          1        Cable         8\n",
       "1          2        Mouse        12\n",
       "2          3  USB Headset        11"
      ]
     },
     "execution_count": 18,
     "metadata": {},
     "output_type": "execute_result"
    }
   ],
   "source": [
    "df_invD_prod.groupby(['ProductID','ProductName'])['Quantity'].sum().reset_index()"
   ]
  },
  {
   "cell_type": "code",
   "execution_count": null,
   "id": "8d233078",
   "metadata": {},
   "outputs": [],
   "source": []
  }
 ],
 "metadata": {
  "hide_input": false,
  "kernelspec": {
   "display_name": "Python 3 (ipykernel)",
   "language": "python",
   "name": "python3"
  },
  "language_info": {
   "codemirror_mode": {
    "name": "ipython",
    "version": 3
   },
   "file_extension": ".py",
   "mimetype": "text/x-python",
   "name": "python",
   "nbconvert_exporter": "python",
   "pygments_lexer": "ipython3",
   "version": "3.9.16"
  },
  "toc": {
   "base_numbering": 1,
   "nav_menu": {},
   "number_sections": true,
   "sideBar": true,
   "skip_h1_title": false,
   "title_cell": "Table of Contents",
   "title_sidebar": "Contents",
   "toc_cell": false,
   "toc_position": {},
   "toc_section_display": true,
   "toc_window_display": false
  }
 },
 "nbformat": 4,
 "nbformat_minor": 5
}
