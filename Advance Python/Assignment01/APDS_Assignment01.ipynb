{
 "cells": [
  {
   "cell_type": "markdown",
   "metadata": {},
   "source": [
    "<div class=\"alert alert-block alert-success\">\n",
    "    <span style='font-size: large'><b> ASSIGNMENT 01 </b></span>\n",
    "    <br>\n",
    "    <span> GROUP 1 <span>\n",
    "</div>"
   ]
  },
  {
   "cell_type": "code",
   "execution_count": 1,
   "metadata": {
    "ExecuteTime": {
     "end_time": "2023-06-19T15:04:10.551337Z",
     "start_time": "2023-06-19T15:04:10.543566Z"
    }
   },
   "outputs": [],
   "source": [
    "import pandas as pd"
   ]
  },
  {
   "cell_type": "code",
   "execution_count": 2,
   "metadata": {
    "ExecuteTime": {
     "end_time": "2023-06-19T15:04:10.563296Z",
     "start_time": "2023-06-19T15:04:10.554189Z"
    }
   },
   "outputs": [],
   "source": [
    "# DataFrame Customers\n",
    "cus_data = [\n",
    "    [1, 'Keo Tola', 'M', '011 694 836','Phnom Penh'],\n",
    "    [2, 'Chan Sokheng', 'F', '097 984 4985','Pursat'],\n",
    "    [3, 'Meng Heang', 'M', '099 897 858', 'Phnom Penh'],\n",
    "    [4, 'Sok Sophea', 'F', '086 985 585','Siem Reap'],\n",
    "    [5, 'Sen Sinet', 'F', '097 242 234', 'Phnom Penh'],\n",
    "    [6, 'Sok Panha', 'M', '086 654 432', 'Siem Reap'],\n",
    "]\n",
    "df_customers = pd.DataFrame(cus_data, columns=['CusID','CusName', 'Gender', 'Phone','Address'])"
   ]
  },
  {
   "cell_type": "code",
   "execution_count": 3,
   "metadata": {},
   "outputs": [],
   "source": [
    "# DataFrame Invoice and InvoiceDetail\n",
    "inv_data = [\n",
    "    [1, \"2021-01-04\", 22, 1, 1],\n",
    "    [2, \"2021-05-15\", 14, 4, 1],\n",
    "    [3, '2021-05-15', 8, 3, 2],\n",
    "    [4, '2021-07-22', 15, 2, 3],\n",
    "    [5, '2020-01-17', 45, 1, 3],\n",
    "    [6, '2020-03-27', 24, 1, 3],\n",
    "    [7, '2020-02-11', 5, 3, 4],\n",
    "    [8, '2020-07-22', 59, 3, 59]\n",
    "]\n",
    "inv_Detail = [\n",
    "    [1, 1, 5, 3],\n",
    "    [1, 2, 7, 1],\n",
    "    [2, 1, 7, 2],\n",
    "    [3, 3, 8, 1],\n",
    "    [4, 2, 7, 1],\n",
    "    [4, 3, 8, 1],\n",
    "    [5, 1, 5, 2],\n",
    "    [5, 2, 7, 5],\n",
    "    [6, 3, 8, 5],\n",
    "    [7, 1, 5, 1],\n",
    "    [8, 2, 7, 5],\n",
    "    [8, 3, 8, 4],\n",
    "]\n",
    "\n",
    "df_invoice = pd.DataFrame(inv_data, columns=['InvoiceID', 'InvoiceDate', 'TotalAmount', 'CusID', 'StaffID'])\n",
    "df_invD = pd.DataFrame(inv_Detail, columns=['InvoiceID', 'ProductID', 'SellingPrice', 'Quantity'])"
   ]
  },
  {
   "cell_type": "code",
   "execution_count": 4,
   "metadata": {},
   "outputs": [],
   "source": [
    "# DataFrame Products\n",
    "prod_data = [\n",
    "    [1, 'Cable', 50, 10 , 0.5],\n",
    "    [2, 'Mouse', 30, 7, 0],\n",
    "    [3, 'USB Headset' ,35, 10, 0.2],\n",
    "    [4, 'Adapter', 20, 7, 0.5],\n",
    "    [5, 'Keyboard', 15, 15, 0.6],\n",
    "]\n",
    "df_prod = pd.DataFrame(prod_data, columns=['ProductID', 'ProductName', 'StockQty', 'UnitPrice', 'Discount'])"
   ]
  },
  {
   "cell_type": "code",
   "execution_count": 5,
   "metadata": {},
   "outputs": [],
   "source": [
    "# DataFrame of Staffs\n",
    "staff_data = [\n",
    "    [1, 'Kim Tola', 'M', 1500, False],\n",
    "    [2, 'Long Dary', 'F', 700, False],\n",
    "    [3, 'Kun Sopheak', 'F', 320, False],\n",
    "    [4, 'Chim Thida', 'F', 200, True],\n",
    "    [5, 'Dim Vuthy', 'M', 150, True],\n",
    "    [6, 'Keo Dara', 'M', 100, False],\n",
    "]\n",
    "df_staffs = pd.DataFrame(staff_data, columns=['StaffID', 'StaffName', 'Gender', \"Salary\", 'StopWork'])"
   ]
  },
  {
   "cell_type": "markdown",
   "metadata": {},
   "source": [
    "<div class=\"alert alert-block alert-info\"> 1. Display the customer who purchased the invoiceID Number[id] </div>"
   ]
  },
  {
   "cell_type": "code",
   "execution_count": 6,
   "metadata": {},
   "outputs": [
    {
     "data": {
      "text/html": [
       "<div>\n",
       "<style scoped>\n",
       "    .dataframe tbody tr th:only-of-type {\n",
       "        vertical-align: middle;\n",
       "    }\n",
       "\n",
       "    .dataframe tbody tr th {\n",
       "        vertical-align: top;\n",
       "    }\n",
       "\n",
       "    .dataframe thead th {\n",
       "        text-align: right;\n",
       "    }\n",
       "</style>\n",
       "<table border=\"1\" class=\"dataframe\">\n",
       "  <thead>\n",
       "    <tr style=\"text-align: right;\">\n",
       "      <th></th>\n",
       "      <th>CusID</th>\n",
       "      <th>CusName</th>\n",
       "      <th>Gender</th>\n",
       "      <th>Phone</th>\n",
       "      <th>Address</th>\n",
       "      <th>InvoiceID</th>\n",
       "      <th>InvoiceDate</th>\n",
       "      <th>TotalAmount</th>\n",
       "      <th>StaffID</th>\n",
       "    </tr>\n",
       "  </thead>\n",
       "  <tbody>\n",
       "    <tr>\n",
       "      <th>0</th>\n",
       "      <td>1</td>\n",
       "      <td>Keo Tola</td>\n",
       "      <td>M</td>\n",
       "      <td>011 694 836</td>\n",
       "      <td>Phnom Penh</td>\n",
       "      <td>1</td>\n",
       "      <td>2021-01-04</td>\n",
       "      <td>22</td>\n",
       "      <td>1</td>\n",
       "    </tr>\n",
       "  </tbody>\n",
       "</table>\n",
       "</div>"
      ],
      "text/plain": [
       "   CusID   CusName Gender        Phone     Address  InvoiceID InvoiceDate  \\\n",
       "0      1  Keo Tola      M  011 694 836  Phnom Penh          1  2021-01-04   \n",
       "\n",
       "   TotalAmount  StaffID  \n",
       "0           22        1  "
      ]
     },
     "execution_count": 6,
     "metadata": {},
     "output_type": "execute_result"
    }
   ],
   "source": [
    "# Merge df_costomer with df_invoice base on CusID\n",
    "invoiceID = 1\n",
    "df_cus_inv = pd.merge(df_customers, df_invoice, on='CusID')\n",
    "cus_inv = df_cus_inv[df_cus_inv['InvoiceID'] == invoiceID]\n",
    "cus_inv"
   ]
  },
  {
   "cell_type": "markdown",
   "metadata": {},
   "source": [
    "<div class=\"alert alert-block alert-info\"> 2. Display the names of the products purchased by the customer whose phone number is [phone]. </div>"
   ]
  },
  {
   "cell_type": "code",
   "execution_count": 7,
   "metadata": {},
   "outputs": [],
   "source": [
    "#Merge InvoiceDetial with Products base ProductID\n",
    "df_inv_invD = pd.merge(df_invD, df_prod, on='ProductID')"
   ]
  },
  {
   "cell_type": "code",
   "execution_count": 8,
   "metadata": {},
   "outputs": [
    {
     "data": {
      "text/html": [
       "<div>\n",
       "<style scoped>\n",
       "    .dataframe tbody tr th:only-of-type {\n",
       "        vertical-align: middle;\n",
       "    }\n",
       "\n",
       "    .dataframe tbody tr th {\n",
       "        vertical-align: top;\n",
       "    }\n",
       "\n",
       "    .dataframe thead th {\n",
       "        text-align: right;\n",
       "    }\n",
       "</style>\n",
       "<table border=\"1\" class=\"dataframe\">\n",
       "  <thead>\n",
       "    <tr style=\"text-align: right;\">\n",
       "      <th></th>\n",
       "      <th>CusID</th>\n",
       "      <th>CusName</th>\n",
       "      <th>Gender</th>\n",
       "      <th>Address</th>\n",
       "      <th>InvoiceID</th>\n",
       "      <th>InvoiceDate</th>\n",
       "      <th>SellingPrice</th>\n",
       "      <th>Quantity</th>\n",
       "      <th>ProductName</th>\n",
       "      <th>Discount</th>\n",
       "    </tr>\n",
       "  </thead>\n",
       "  <tbody>\n",
       "    <tr>\n",
       "      <th>0</th>\n",
       "      <td>1</td>\n",
       "      <td>Keo Tola</td>\n",
       "      <td>M</td>\n",
       "      <td>Phnom Penh</td>\n",
       "      <td>1</td>\n",
       "      <td>2021-01-04</td>\n",
       "      <td>5</td>\n",
       "      <td>3</td>\n",
       "      <td>Cable</td>\n",
       "      <td>0.5</td>\n",
       "    </tr>\n",
       "    <tr>\n",
       "      <th>1</th>\n",
       "      <td>1</td>\n",
       "      <td>Keo Tola</td>\n",
       "      <td>M</td>\n",
       "      <td>Phnom Penh</td>\n",
       "      <td>1</td>\n",
       "      <td>2021-01-04</td>\n",
       "      <td>7</td>\n",
       "      <td>1</td>\n",
       "      <td>Mouse</td>\n",
       "      <td>0.0</td>\n",
       "    </tr>\n",
       "    <tr>\n",
       "      <th>2</th>\n",
       "      <td>1</td>\n",
       "      <td>Keo Tola</td>\n",
       "      <td>M</td>\n",
       "      <td>Phnom Penh</td>\n",
       "      <td>5</td>\n",
       "      <td>2020-01-17</td>\n",
       "      <td>5</td>\n",
       "      <td>2</td>\n",
       "      <td>Cable</td>\n",
       "      <td>0.5</td>\n",
       "    </tr>\n",
       "    <tr>\n",
       "      <th>3</th>\n",
       "      <td>1</td>\n",
       "      <td>Keo Tola</td>\n",
       "      <td>M</td>\n",
       "      <td>Phnom Penh</td>\n",
       "      <td>5</td>\n",
       "      <td>2020-01-17</td>\n",
       "      <td>7</td>\n",
       "      <td>5</td>\n",
       "      <td>Mouse</td>\n",
       "      <td>0.0</td>\n",
       "    </tr>\n",
       "    <tr>\n",
       "      <th>4</th>\n",
       "      <td>1</td>\n",
       "      <td>Keo Tola</td>\n",
       "      <td>M</td>\n",
       "      <td>Phnom Penh</td>\n",
       "      <td>6</td>\n",
       "      <td>2020-03-27</td>\n",
       "      <td>8</td>\n",
       "      <td>5</td>\n",
       "      <td>USB Headset</td>\n",
       "      <td>0.2</td>\n",
       "    </tr>\n",
       "  </tbody>\n",
       "</table>\n",
       "</div>"
      ],
      "text/plain": [
       "   CusID   CusName Gender     Address  InvoiceID InvoiceDate  SellingPrice  \\\n",
       "0      1  Keo Tola      M  Phnom Penh          1  2021-01-04             5   \n",
       "1      1  Keo Tola      M  Phnom Penh          1  2021-01-04             7   \n",
       "2      1  Keo Tola      M  Phnom Penh          5  2020-01-17             5   \n",
       "3      1  Keo Tola      M  Phnom Penh          5  2020-01-17             7   \n",
       "4      1  Keo Tola      M  Phnom Penh          6  2020-03-27             8   \n",
       "\n",
       "   Quantity  ProductName  Discount  \n",
       "0         3        Cable       0.5  \n",
       "1         1        Mouse       0.0  \n",
       "2         2        Cable       0.5  \n",
       "3         5        Mouse       0.0  \n",
       "4         5  USB Headset       0.2  "
      ]
     },
     "execution_count": 8,
     "metadata": {},
     "output_type": "execute_result"
    }
   ],
   "source": [
    "#Merge DataFrame of Cus_Inv with Inv_InvD\n",
    "phone = '011 694 836'\n",
    "df_merge = pd.merge(df_cus_inv, df_inv_invD, on='InvoiceID')\n",
    "df_nameProd = df_merge[df_merge['Phone'] == phone]\n",
    "df_nameProd[['CusID', 'CusName', 'Gender', 'Address', 'InvoiceID', 'InvoiceDate', 'SellingPrice', 'Quantity','ProductName', 'Discount']]"
   ]
  },
  {
   "cell_type": "markdown",
   "metadata": {},
   "source": [
    "<div class=\"alert alert-block alert-info\"> 3. Display all invoices purchased by the customer named [name]. </div>"
   ]
  },
  {
   "cell_type": "code",
   "execution_count": 9,
   "metadata": {},
   "outputs": [
    {
     "data": {
      "text/html": [
       "<div>\n",
       "<style scoped>\n",
       "    .dataframe tbody tr th:only-of-type {\n",
       "        vertical-align: middle;\n",
       "    }\n",
       "\n",
       "    .dataframe tbody tr th {\n",
       "        vertical-align: top;\n",
       "    }\n",
       "\n",
       "    .dataframe thead th {\n",
       "        text-align: right;\n",
       "    }\n",
       "</style>\n",
       "<table border=\"1\" class=\"dataframe\">\n",
       "  <thead>\n",
       "    <tr style=\"text-align: right;\">\n",
       "      <th></th>\n",
       "      <th>CusName</th>\n",
       "      <th>InvoiceID</th>\n",
       "      <th>InvoiceDate</th>\n",
       "      <th>TotalAmount</th>\n",
       "    </tr>\n",
       "  </thead>\n",
       "  <tbody>\n",
       "    <tr>\n",
       "      <th>0</th>\n",
       "      <td>Keo Tola</td>\n",
       "      <td>1</td>\n",
       "      <td>2021-01-04</td>\n",
       "      <td>22</td>\n",
       "    </tr>\n",
       "    <tr>\n",
       "      <th>1</th>\n",
       "      <td>Keo Tola</td>\n",
       "      <td>5</td>\n",
       "      <td>2020-01-17</td>\n",
       "      <td>45</td>\n",
       "    </tr>\n",
       "    <tr>\n",
       "      <th>2</th>\n",
       "      <td>Keo Tola</td>\n",
       "      <td>6</td>\n",
       "      <td>2020-03-27</td>\n",
       "      <td>24</td>\n",
       "    </tr>\n",
       "  </tbody>\n",
       "</table>\n",
       "</div>"
      ],
      "text/plain": [
       "    CusName  InvoiceID InvoiceDate  TotalAmount\n",
       "0  Keo Tola          1  2021-01-04           22\n",
       "1  Keo Tola          5  2020-01-17           45\n",
       "2  Keo Tola          6  2020-03-27           24"
      ]
     },
     "execution_count": 9,
     "metadata": {},
     "output_type": "execute_result"
    }
   ],
   "source": [
    "cusName = 'Keo Tola'\n",
    "df_cus_inv.loc[df_cus_inv['CusName'] == cusName, ['CusName', 'InvoiceID', 'InvoiceDate', 'TotalAmount']]"
   ]
  },
  {
   "cell_type": "markdown",
   "metadata": {},
   "source": [
    "<div class='alert alert-block alert-info'>4. Display all invoices issued by a staff named [name].</div>"
   ]
  },
  {
   "cell_type": "code",
   "execution_count": 10,
   "metadata": {},
   "outputs": [
    {
     "data": {
      "text/html": [
       "<div>\n",
       "<style scoped>\n",
       "    .dataframe tbody tr th:only-of-type {\n",
       "        vertical-align: middle;\n",
       "    }\n",
       "\n",
       "    .dataframe tbody tr th {\n",
       "        vertical-align: top;\n",
       "    }\n",
       "\n",
       "    .dataframe thead th {\n",
       "        text-align: right;\n",
       "    }\n",
       "</style>\n",
       "<table border=\"1\" class=\"dataframe\">\n",
       "  <thead>\n",
       "    <tr style=\"text-align: right;\">\n",
       "      <th></th>\n",
       "      <th>StaffName</th>\n",
       "      <th>InvoiceID</th>\n",
       "      <th>InvoiceDate</th>\n",
       "      <th>TotalAmount</th>\n",
       "    </tr>\n",
       "  </thead>\n",
       "  <tbody>\n",
       "    <tr>\n",
       "      <th>0</th>\n",
       "      <td>Kim Tola</td>\n",
       "      <td>1</td>\n",
       "      <td>2021-01-04</td>\n",
       "      <td>22</td>\n",
       "    </tr>\n",
       "    <tr>\n",
       "      <th>1</th>\n",
       "      <td>Kim Tola</td>\n",
       "      <td>2</td>\n",
       "      <td>2021-05-15</td>\n",
       "      <td>14</td>\n",
       "    </tr>\n",
       "  </tbody>\n",
       "</table>\n",
       "</div>"
      ],
      "text/plain": [
       "  StaffName  InvoiceID InvoiceDate  TotalAmount\n",
       "0  Kim Tola          1  2021-01-04           22\n",
       "1  Kim Tola          2  2021-05-15           14"
      ]
     },
     "execution_count": 10,
     "metadata": {},
     "output_type": "execute_result"
    }
   ],
   "source": [
    "staffName = 'Kim Tola'\n",
    "df_inv_staff = pd.merge(df_invoice, df_staffs, on='StaffID')\n",
    "df_inv_staff.loc[df_inv_staff['StaffName'] == staffName, ['StaffName', 'InvoiceID', 'InvoiceDate', 'TotalAmount']]"
   ]
  },
  {
   "cell_type": "markdown",
   "metadata": {},
   "source": [
    "<div class='alert alert-block alert-info'>5. Display all names, selling prices and quantities of the products in the invoice ID number [id].</div>"
   ]
  },
  {
   "cell_type": "code",
   "execution_count": 11,
   "metadata": {},
   "outputs": [
    {
     "data": {
      "text/html": [
       "<div>\n",
       "<style scoped>\n",
       "    .dataframe tbody tr th:only-of-type {\n",
       "        vertical-align: middle;\n",
       "    }\n",
       "\n",
       "    .dataframe tbody tr th {\n",
       "        vertical-align: top;\n",
       "    }\n",
       "\n",
       "    .dataframe thead th {\n",
       "        text-align: right;\n",
       "    }\n",
       "</style>\n",
       "<table border=\"1\" class=\"dataframe\">\n",
       "  <thead>\n",
       "    <tr style=\"text-align: right;\">\n",
       "      <th></th>\n",
       "      <th>InvoiceID</th>\n",
       "      <th>ProductName</th>\n",
       "      <th>SellingPrice</th>\n",
       "      <th>Quantity</th>\n",
       "    </tr>\n",
       "  </thead>\n",
       "  <tbody>\n",
       "    <tr>\n",
       "      <th>0</th>\n",
       "      <td>1</td>\n",
       "      <td>Cable</td>\n",
       "      <td>5</td>\n",
       "      <td>3</td>\n",
       "    </tr>\n",
       "    <tr>\n",
       "      <th>4</th>\n",
       "      <td>1</td>\n",
       "      <td>Mouse</td>\n",
       "      <td>7</td>\n",
       "      <td>1</td>\n",
       "    </tr>\n",
       "  </tbody>\n",
       "</table>\n",
       "</div>"
      ],
      "text/plain": [
       "   InvoiceID ProductName  SellingPrice  Quantity\n",
       "0          1       Cable             5         3\n",
       "4          1       Mouse             7         1"
      ]
     },
     "execution_count": 11,
     "metadata": {},
     "output_type": "execute_result"
    }
   ],
   "source": [
    "prodID = 1\n",
    "df_inv_invD.loc[df_inv_invD['InvoiceID'] == prodID, ['InvoiceID','ProductName', 'SellingPrice', 'Quantity']]"
   ]
  },
  {
   "cell_type": "markdown",
   "metadata": {},
   "source": [
    "<div class='alert alert-block alert-info'> 6. Display all customers who purchased [product_name].</div>"
   ]
  },
  {
   "cell_type": "code",
   "execution_count": 12,
   "metadata": {},
   "outputs": [
    {
     "data": {
      "text/html": [
       "<div>\n",
       "<style scoped>\n",
       "    .dataframe tbody tr th:only-of-type {\n",
       "        vertical-align: middle;\n",
       "    }\n",
       "\n",
       "    .dataframe tbody tr th {\n",
       "        vertical-align: top;\n",
       "    }\n",
       "\n",
       "    .dataframe thead th {\n",
       "        text-align: right;\n",
       "    }\n",
       "</style>\n",
       "<table border=\"1\" class=\"dataframe\">\n",
       "  <thead>\n",
       "    <tr style=\"text-align: right;\">\n",
       "      <th></th>\n",
       "      <th>CusName</th>\n",
       "      <th>ProductName</th>\n",
       "    </tr>\n",
       "  </thead>\n",
       "  <tbody>\n",
       "    <tr>\n",
       "      <th>0</th>\n",
       "      <td>Keo Tola</td>\n",
       "      <td>Cable</td>\n",
       "    </tr>\n",
       "    <tr>\n",
       "      <th>2</th>\n",
       "      <td>Keo Tola</td>\n",
       "      <td>Cable</td>\n",
       "    </tr>\n",
       "    <tr>\n",
       "      <th>8</th>\n",
       "      <td>Meng Heang</td>\n",
       "      <td>Cable</td>\n",
       "    </tr>\n",
       "    <tr>\n",
       "      <th>11</th>\n",
       "      <td>Sok Sophea</td>\n",
       "      <td>Cable</td>\n",
       "    </tr>\n",
       "  </tbody>\n",
       "</table>\n",
       "</div>"
      ],
      "text/plain": [
       "       CusName ProductName\n",
       "0     Keo Tola       Cable\n",
       "2     Keo Tola       Cable\n",
       "8   Meng Heang       Cable\n",
       "11  Sok Sophea       Cable"
      ]
     },
     "execution_count": 12,
     "metadata": {},
     "output_type": "execute_result"
    }
   ],
   "source": [
    "prodName = 'Cable'\n",
    "cus_prod = df_merge.loc[df_merge['ProductName'] == 'Cable', ['CusName', 'ProductName']]\n",
    "cus_prod"
   ]
  },
  {
   "cell_type": "markdown",
   "metadata": {},
   "source": [
    "<div class='alert alert-block alert-info'> 7. Display the number of female staffs who are still working for the company.</div>"
   ]
  },
  {
   "cell_type": "code",
   "execution_count": 13,
   "metadata": {},
   "outputs": [
    {
     "data": {
      "text/html": [
       "<div>\n",
       "<style scoped>\n",
       "    .dataframe tbody tr th:only-of-type {\n",
       "        vertical-align: middle;\n",
       "    }\n",
       "\n",
       "    .dataframe tbody tr th {\n",
       "        vertical-align: top;\n",
       "    }\n",
       "\n",
       "    .dataframe thead th {\n",
       "        text-align: right;\n",
       "    }\n",
       "</style>\n",
       "<table border=\"1\" class=\"dataframe\">\n",
       "  <thead>\n",
       "    <tr style=\"text-align: right;\">\n",
       "      <th></th>\n",
       "      <th>StopWork</th>\n",
       "      <th>Gender</th>\n",
       "      <th>Count</th>\n",
       "    </tr>\n",
       "  </thead>\n",
       "  <tbody>\n",
       "    <tr>\n",
       "      <th>0</th>\n",
       "      <td>False</td>\n",
       "      <td>F</td>\n",
       "      <td>2</td>\n",
       "    </tr>\n",
       "  </tbody>\n",
       "</table>\n",
       "</div>"
      ],
      "text/plain": [
       "   StopWork Gender  Count\n",
       "0     False      F      2"
      ]
     },
     "execution_count": 13,
     "metadata": {},
     "output_type": "execute_result"
    }
   ],
   "source": [
    "num_female = df_staffs.groupby(['StopWork', 'Gender']).size().reset_index(name='Count')\n",
    "num_female.loc[(num_female['StopWork'] == False) & (num_female['Gender'] == 'F')]"
   ]
  },
  {
   "cell_type": "markdown",
   "metadata": {},
   "source": [
    "<div class='alert alert-block alert-info'> 8. Display the total quantity of [product_name] that have been sold to the customers who live in\n",
    "[address].</div>"
   ]
  },
  {
   "cell_type": "code",
   "execution_count": 14,
   "metadata": {},
   "outputs": [
    {
     "data": {
      "text/html": [
       "<div>\n",
       "<style scoped>\n",
       "    .dataframe tbody tr th:only-of-type {\n",
       "        vertical-align: middle;\n",
       "    }\n",
       "\n",
       "    .dataframe tbody tr th {\n",
       "        vertical-align: top;\n",
       "    }\n",
       "\n",
       "    .dataframe thead th {\n",
       "        text-align: right;\n",
       "    }\n",
       "</style>\n",
       "<table border=\"1\" class=\"dataframe\">\n",
       "  <thead>\n",
       "    <tr style=\"text-align: right;\">\n",
       "      <th></th>\n",
       "      <th>ProductName</th>\n",
       "      <th>Quantity</th>\n",
       "    </tr>\n",
       "  </thead>\n",
       "  <tbody>\n",
       "    <tr>\n",
       "      <th>0</th>\n",
       "      <td>Cable</td>\n",
       "      <td>6</td>\n",
       "    </tr>\n",
       "  </tbody>\n",
       "</table>\n",
       "</div>"
      ],
      "text/plain": [
       "  ProductName  Quantity\n",
       "0       Cable         6"
      ]
     },
     "execution_count": 14,
     "metadata": {},
     "output_type": "execute_result"
    }
   ],
   "source": [
    "prodName = 'Cable'\n",
    "address = 'Phnom Penh'\n",
    "info_cus = df_merge[df_merge['Address'] == address] # Filter by Adderss\n",
    "info_cus = info_cus.groupby('ProductName')['Quantity'].sum().reset_index() # Go to Quantity column use sum method to sum all value\n",
    "info_cus = info_cus[info_cus['ProductName'] == prodName] # Filter by Product Name\n",
    "info_cus"
   ]
  },
  {
   "cell_type": "markdown",
   "metadata": {},
   "source": [
    "<div class='alert alert-block alert-info'> 9. Display all customers who have never purchased any product.</div>"
   ]
  },
  {
   "cell_type": "code",
   "execution_count": 15,
   "metadata": {},
   "outputs": [
    {
     "data": {
      "text/html": [
       "<div>\n",
       "<style scoped>\n",
       "    .dataframe tbody tr th:only-of-type {\n",
       "        vertical-align: middle;\n",
       "    }\n",
       "\n",
       "    .dataframe tbody tr th {\n",
       "        vertical-align: top;\n",
       "    }\n",
       "\n",
       "    .dataframe thead th {\n",
       "        text-align: right;\n",
       "    }\n",
       "</style>\n",
       "<table border=\"1\" class=\"dataframe\">\n",
       "  <thead>\n",
       "    <tr style=\"text-align: right;\">\n",
       "      <th></th>\n",
       "      <th>CusID</th>\n",
       "      <th>CusName</th>\n",
       "      <th>Gender</th>\n",
       "      <th>Phone</th>\n",
       "      <th>Address</th>\n",
       "    </tr>\n",
       "  </thead>\n",
       "  <tbody>\n",
       "    <tr>\n",
       "      <th>8</th>\n",
       "      <td>5</td>\n",
       "      <td>Sen Sinet</td>\n",
       "      <td>F</td>\n",
       "      <td>097 242 234</td>\n",
       "      <td>Phnom Penh</td>\n",
       "    </tr>\n",
       "    <tr>\n",
       "      <th>9</th>\n",
       "      <td>6</td>\n",
       "      <td>Sok Panha</td>\n",
       "      <td>M</td>\n",
       "      <td>086 654 432</td>\n",
       "      <td>Siem Reap</td>\n",
       "    </tr>\n",
       "  </tbody>\n",
       "</table>\n",
       "</div>"
      ],
      "text/plain": [
       "   CusID    CusName Gender        Phone     Address\n",
       "8      5  Sen Sinet      F  097 242 234  Phnom Penh\n",
       "9      6  Sok Panha      M  086 654 432   Siem Reap"
      ]
     },
     "execution_count": 15,
     "metadata": {},
     "output_type": "execute_result"
    }
   ],
   "source": [
    "merged_data = pd.merge(df_customers, df_invoice, on='CusID', how='left')\n",
    "merged_data.loc[merged_data['InvoiceID'].isnull(), ['CusID','CusName', 'Gender', 'Phone','Address']]"
   ]
  },
  {
   "cell_type": "markdown",
   "metadata": {},
   "source": [
    "<div class='alert alert-block alert-info'> 10. Display all products that have never been sold.</div>"
   ]
  },
  {
   "cell_type": "code",
   "execution_count": 16,
   "metadata": {},
   "outputs": [
    {
     "data": {
      "text/html": [
       "<div>\n",
       "<style scoped>\n",
       "    .dataframe tbody tr th:only-of-type {\n",
       "        vertical-align: middle;\n",
       "    }\n",
       "\n",
       "    .dataframe tbody tr th {\n",
       "        vertical-align: top;\n",
       "    }\n",
       "\n",
       "    .dataframe thead th {\n",
       "        text-align: right;\n",
       "    }\n",
       "</style>\n",
       "<table border=\"1\" class=\"dataframe\">\n",
       "  <thead>\n",
       "    <tr style=\"text-align: right;\">\n",
       "      <th></th>\n",
       "      <th>ProductID</th>\n",
       "      <th>ProductName</th>\n",
       "      <th>StockQty</th>\n",
       "      <th>UnitPrice</th>\n",
       "      <th>Discount</th>\n",
       "    </tr>\n",
       "  </thead>\n",
       "  <tbody>\n",
       "    <tr>\n",
       "      <th>12</th>\n",
       "      <td>4</td>\n",
       "      <td>Adapter</td>\n",
       "      <td>20</td>\n",
       "      <td>7</td>\n",
       "      <td>0.5</td>\n",
       "    </tr>\n",
       "    <tr>\n",
       "      <th>13</th>\n",
       "      <td>5</td>\n",
       "      <td>Keyboard</td>\n",
       "      <td>15</td>\n",
       "      <td>15</td>\n",
       "      <td>0.6</td>\n",
       "    </tr>\n",
       "  </tbody>\n",
       "</table>\n",
       "</div>"
      ],
      "text/plain": [
       "    ProductID ProductName  StockQty  UnitPrice  Discount\n",
       "12          4     Adapter        20          7       0.5\n",
       "13          5    Keyboard        15         15       0.6"
      ]
     },
     "execution_count": 16,
     "metadata": {},
     "output_type": "execute_result"
    }
   ],
   "source": [
    "merged_data = pd.merge(df_invD, df_prod, on='ProductID', how='right') \n",
    "merged_data.loc[merged_data['InvoiceID'].isnull(),['ProductID', 'ProductName', 'StockQty', 'UnitPrice', 'Discount']]"
   ]
  }
 ],
 "metadata": {
  "hide_input": false,
  "kernelspec": {
   "display_name": "Python 3 (ipykernel)",
   "language": "python",
   "name": "python3"
  },
  "language_info": {
   "codemirror_mode": {
    "name": "ipython",
    "version": 3
   },
   "file_extension": ".py",
   "mimetype": "text/x-python",
   "name": "python",
   "nbconvert_exporter": "python",
   "pygments_lexer": "ipython3",
   "version": "3.9.16"
  },
  "toc": {
   "base_numbering": 1,
   "nav_menu": {},
   "number_sections": true,
   "sideBar": true,
   "skip_h1_title": false,
   "title_cell": "Table of Contents",
   "title_sidebar": "Contents",
   "toc_cell": false,
   "toc_position": {},
   "toc_section_display": true,
   "toc_window_display": false
  },
  "varInspector": {
   "cols": {
    "lenName": 16,
    "lenType": 16,
    "lenVar": 40
   },
   "kernels_config": {
    "python": {
     "delete_cmd_postfix": "",
     "delete_cmd_prefix": "del ",
     "library": "var_list.py",
     "varRefreshCmd": "print(var_dic_list())"
    },
    "r": {
     "delete_cmd_postfix": ") ",
     "delete_cmd_prefix": "rm(",
     "library": "var_list.r",
     "varRefreshCmd": "cat(var_dic_list()) "
    }
   },
   "position": {
    "height": "253.85px",
    "left": "1364.4px",
    "right": "20px",
    "top": "670px",
    "width": "255.4px"
   },
   "types_to_exclude": [
    "module",
    "function",
    "builtin_function_or_method",
    "instance",
    "_Feature"
   ],
   "window_display": false
  }
 },
 "nbformat": 4,
 "nbformat_minor": 4
}
